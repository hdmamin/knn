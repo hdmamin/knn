{
 "cells": [
  {
   "cell_type": "markdown",
   "metadata": {},
   "source": [
    "## Logistic Regression\n",
    "\n",
    "A logistic regression classifier built using Python and Numpy to predict university admissions. Each observation contains an individual student's scores on two exams, as well as their admission decision (0 for rejection, 1 for acceptance).\n",
    "\n",
    "Note: This is a sample problem from Andrew Ng's machine learning course, and no train/test split was used in order to match the expected output. In reality, we would typically split the data into a train set, dev set, and test set or use cross validation. Occasionally, a training-dev set may even be used as well."
   ]
  },
  {
   "cell_type": "code",
   "execution_count": 22,
   "metadata": {
    "ExecuteTime": {
     "end_time": "2019-01-24T08:27:59.637443Z",
     "start_time": "2019-01-24T08:27:59.632959Z"
    }
   },
   "outputs": [],
   "source": [
    "import numpy as np\n",
    "import matplotlib.pyplot as plt\n",
    "import seaborn as sns\n",
    "import warnings"
   ]
  },
  {
   "cell_type": "code",
   "execution_count": 23,
   "metadata": {
    "ExecuteTime": {
     "end_time": "2019-01-24T08:28:17.506114Z",
     "start_time": "2019-01-24T08:28:17.500689Z"
    }
   },
   "outputs": [],
   "source": [
    "%matplotlib inline\n",
    "warnings.filterwarnings('ignore')"
   ]
  },
  {
   "cell_type": "code",
   "execution_count": 2,
   "metadata": {
    "ExecuteTime": {
     "end_time": "2019-01-24T07:59:51.992486Z",
     "start_time": "2019-01-24T07:59:51.986610Z"
    }
   },
   "outputs": [],
   "source": [
    "def normalize(X, means=None, stds=None):\n",
    "    \"\"\"Pass in (m x n) dimensional X matrix and normalize each column. Return \n",
    "    the normalized X matrix and the column means and stdevs for future use.\n",
    "    \"\"\"\n",
    "    if means is None and stds is None:\n",
    "        means = X.mean(axis=0)\n",
    "        stds = X.std(axis=0)\n",
    "    X = (X - means) / stds\n",
    "    return X, means, stds"
   ]
  },
  {
   "cell_type": "code",
   "execution_count": 3,
   "metadata": {
    "ExecuteTime": {
     "end_time": "2019-01-24T08:00:01.381368Z",
     "start_time": "2019-01-24T08:00:01.375896Z"
    }
   },
   "outputs": [],
   "source": [
    "def sigmoid(z):\n",
    "    \"\"\"Pass matrix z through sigmoid activation function.\"\"\"\n",
    "    return 1 / (1 + np.exp(-z))"
   ]
  },
  {
   "cell_type": "code",
   "execution_count": 6,
   "metadata": {
    "ExecuteTime": {
     "end_time": "2019-01-24T08:10:41.286230Z",
     "start_time": "2019-01-24T08:10:41.279500Z"
    }
   },
   "outputs": [],
   "source": [
    "def cost(X, y, theta):\n",
    "    \"\"\"Calculate binary cross entropy loss for matrix X. X should include \n",
    "    x0 column of ones.\n",
    "    \"\"\"\n",
    "    m = X.shape[0]\n",
    "    h = sigmoid(X @ theta)\n",
    "    j = -1/m * (y.T @ np.log(h) + (1 - y).T.dot(np.log(1 - h)))\n",
    "    return j"
   ]
  },
  {
   "cell_type": "code",
   "execution_count": 126,
   "metadata": {
    "ExecuteTime": {
     "end_time": "2019-01-24T09:02:50.411900Z",
     "start_time": "2019-01-24T09:02:50.405858Z"
    }
   },
   "outputs": [],
   "source": [
    "def gradient_descent(X, y, theta, alpha, iters):\n",
    "    \"\"\"Pass in theta as matrix of zeros. Adjust theta values until the cost\n",
    "    function is minimized. Return the optimal theta values, as well as the \n",
    "    cost value for each iteration.\n",
    "    \n",
    "    alpha : float\n",
    "        Learning rate that determines the rate at which weights are updated.\n",
    "    iters : int\n",
    "        Number of epochs to run gradient descent.\n",
    "    \"\"\"\n",
    "    m = X.shape[0]\n",
    "    costs = []\n",
    "    for i in range(iters):\n",
    "        h = sigmoid(X @ theta)\n",
    "        gradient = X.T @ (y - h)\n",
    "        theta = theta + alpha * gradient\n",
    "        costs.append(cost(X, y, theta))\n",
    "        if i > 0 and np.isclose(costs[-1], costs[-2]):\n",
    "            break\n",
    "    return theta, costs"
   ]
  },
  {
   "cell_type": "code",
   "execution_count": 140,
   "metadata": {
    "ExecuteTime": {
     "end_time": "2019-01-24T09:05:49.554087Z",
     "start_time": "2019-01-24T09:05:49.548870Z"
    }
   },
   "outputs": [],
   "source": [
    "def predict(X, theta):\n",
    "    \"\"\"Pass in numpy array X, with scaled features and bias column. Return\n",
    "    predicted probabilities and class assignments.\n",
    "    \"\"\"\n",
    "    probs = sigmoid(X @ theta)\n",
    "    preds = np.where(probs >= 0.5, 1, 0)\n",
    "    return {'probs': probs, 'preds': np.array(preds)}"
   ]
  },
  {
   "cell_type": "code",
   "execution_count": 128,
   "metadata": {
    "ExecuteTime": {
     "end_time": "2019-01-24T09:02:51.242616Z",
     "start_time": "2019-01-24T09:02:51.238144Z"
    }
   },
   "outputs": [],
   "source": [
    "def scale_predict(X, means, stdevs, theta):\n",
    "    \"\"\"Pass in X and previously generated feature parameters for scaling. \n",
    "    Normalize features and add a bias column of ones. Use weights optimized \n",
    "    through gradient descent to predict probabilities and classes.\n",
    "    \"\"\"\n",
    "    X = normalize(X, means, stdevs)[0]\n",
    "    X = np.column_stack((np.ones(X.shape[0]), X))\n",
    "    output_dict = predict(X, theta)\n",
    "    return output_dict"
   ]
  },
  {
   "cell_type": "markdown",
   "metadata": {},
   "source": [
    "## Load data"
   ]
  },
  {
   "cell_type": "code",
   "execution_count": 129,
   "metadata": {
    "ExecuteTime": {
     "end_time": "2019-01-24T09:02:51.622812Z",
     "start_time": "2019-01-24T09:02:51.610360Z"
    }
   },
   "outputs": [
    {
     "name": "stdout",
     "output_type": "stream",
     "text": [
      "[[34.62365962 78.02469282  0.        ]\n",
      " [30.28671077 43.89499752  0.        ]\n",
      " [35.84740877 72.90219803  0.        ]\n",
      " [60.18259939 86.3085521   1.        ]\n",
      " [79.03273605 75.34437644  1.        ]]\n",
      "\n",
      "Data dimensions: (100, 3)\n",
      "\n",
      "Column means:\n",
      "[65.64427406 66.22199809  0.6       ]\n"
     ]
    }
   ],
   "source": [
    "data = np.loadtxt('data/ex2data1.txt', delimiter=',')\n",
    "print(data[:5,:])\n",
    "print('\\nData dimensions:', data.shape)\n",
    "print('\\nColumn means:\\n{}'.format(data.mean(axis=0)))\n",
    "\n",
    "# Split data into X and y\n",
    "X = data[:,:-1]\n",
    "y = data[:,-1]\n",
    "m, n = X.shape"
   ]
  },
  {
   "cell_type": "code",
   "execution_count": 130,
   "metadata": {
    "ExecuteTime": {
     "end_time": "2019-01-24T09:02:52.045970Z",
     "start_time": "2019-01-24T09:02:51.788530Z"
    }
   },
   "outputs": [
    {
     "data": {
      "image/png": "[encoded data removed]",
      "text/plain": [
       "<Figure size 648x432 with 1 Axes>"
      ]
     },
     "metadata": {},
     "output_type": "display_data"
    }
   ],
   "source": [
    "# Quick data visualization\n",
    "sns.set_style('darkgrid')\n",
    "fig, ax = plt.subplots(figsize=(9,6))\n",
    "plt.scatter(X[:,0], X[:,1], c=y, cmap='bwr', s=15)\n",
    "plt.xlabel('Exam 1 Score')\n",
    "plt.ylabel('Exam 2 Score')\n",
    "plt.title('Student Admissions', fontsize=16)\n",
    "plt.text(85,93, 'Accepted - red\\nRejected - blue', bbox={'edgecolor': 'red', \n",
    "                                                        'facecolor': 'lightgrey',\n",
    "                                                        'alpha': 0.5})\n",
    "plt.show()"
   ]
  },
  {
   "cell_type": "markdown",
   "metadata": {},
   "source": [
    "## Preprocessing\n",
    "\n",
    "Perform feature scaling on X, using column mean and standard deviation to normalize the data. This should help gradient descent converge more quickly. "
   ]
  },
  {
   "cell_type": "code",
   "execution_count": 131,
   "metadata": {
    "ExecuteTime": {
     "end_time": "2019-01-24T09:02:52.649837Z",
     "start_time": "2019-01-24T09:02:52.644295Z"
    }
   },
   "outputs": [
    {
     "name": "stdout",
     "output_type": "stream",
     "text": [
      "[[ 1.         -1.60224763  0.63834112]\n",
      " [ 1.         -1.82625564 -1.2075414 ]\n",
      " [ 1.         -1.53903969  0.3612943 ]\n",
      " [ 1.         -0.28210129  1.0863683 ]\n",
      " [ 1.          0.69152826  0.49337794]]\n"
     ]
    }
   ],
   "source": [
    "X_scaled, col_means, col_stdevs = normalize(X)\n",
    "X_scaled = np.column_stack((np.ones(m), X_scaled))\n",
    "print(X_scaled[:5,:])"
   ]
  },
  {
   "cell_type": "code",
   "execution_count": 132,
   "metadata": {
    "ExecuteTime": {
     "end_time": "2019-01-24T09:02:53.176635Z",
     "start_time": "2019-01-24T09:02:53.171479Z"
    }
   },
   "outputs": [
    {
     "name": "stdout",
     "output_type": "stream",
     "text": [
      "Scaling Parameters\n",
      "\n",
      "Feature means:\n",
      "[65.64427406 66.22199809]\n",
      "\n",
      "Feature standard deviations:\n",
      "[19.36068671 18.48963567]\n"
     ]
    }
   ],
   "source": [
    "print('Scaling Parameters')\n",
    "print(f'\\nFeature means:\\n{col_means}')\n",
    "print(f'\\nFeature standard deviations:\\n{col_stdevs}')"
   ]
  },
  {
   "cell_type": "markdown",
   "metadata": {},
   "source": [
    "## Gradient Descent"
   ]
  },
  {
   "cell_type": "code",
   "execution_count": 133,
   "metadata": {
    "ExecuteTime": {
     "end_time": "2019-01-24T09:02:55.282806Z",
     "start_time": "2019-01-24T09:02:55.275339Z"
    }
   },
   "outputs": [
    {
     "name": "stdout",
     "output_type": "stream",
     "text": [
      "Cost with intial zero weights:\n",
      "0.6931471805599452\n"
     ]
    }
   ],
   "source": [
    "iters = 10000\n",
    "alpha = 0.01\n",
    "theta = np.zeros(n+1)\n",
    "\n",
    "initial_cost = cost(X_scaled, y, theta)\n",
    "print(f'Cost with intial zero weights:\\n{initial_cost}')"
   ]
  },
  {
   "cell_type": "code",
   "execution_count": 134,
   "metadata": {
    "ExecuteTime": {
     "end_time": "2019-01-24T09:02:56.492835Z",
     "start_time": "2019-01-24T09:02:56.447942Z"
    }
   },
   "outputs": [
    {
     "name": "stdout",
     "output_type": "stream",
     "text": [
      "Weights:\n",
      "[1.64409288 3.83430904 3.5718    ]\n",
      "\n",
      "Cost:\n",
      "0.20366012420479834\n"
     ]
    }
   ],
   "source": [
    "theta_vals, costs = gradient_descent(X_scaled, y, theta, alpha, iters)\n",
    "print(f'Weights:\\n{theta_vals}')\n",
    "print(f'\\nCost:\\n{costs[-1]}')"
   ]
  },
  {
   "cell_type": "code",
   "execution_count": 136,
   "metadata": {
    "ExecuteTime": {
     "end_time": "2019-01-24T09:03:17.818508Z",
     "start_time": "2019-01-24T09:03:17.579255Z"
    }
   },
   "outputs": [
    {
     "data": {
      "image/png": "[encoded data removed]",
      "text/plain": [
       "<Figure size 648x432 with 1 Axes>"
      ]
     },
     "metadata": {},
     "output_type": "display_data"
    }
   ],
   "source": [
    "fig, ax = plt.subplots(figsize=(9,6))\n",
    "ax.plot(range(len(costs)), costs)\n",
    "plt.title('Cost During Gradient Descent', fontsize=16)\n",
    "plt.xlabel('Iterations')\n",
    "plt.ylabel('J(theta)')\n",
    "plt.show()"
   ]
  },
  {
   "cell_type": "code",
   "execution_count": 141,
   "metadata": {
    "ExecuteTime": {
     "end_time": "2019-01-24T09:05:56.695770Z",
     "start_time": "2019-01-24T09:05:56.688189Z"
    }
   },
   "outputs": [
    {
     "name": "stdout",
     "output_type": "stream",
     "text": [
      "Prediction accuracy:\n",
      "0.89\n",
      "\n",
      "Predicted admission percentage:\n",
      "0.61\n"
     ]
    }
   ],
   "source": [
    "output = predict(X_scaled, theta_vals)\n",
    "accuracy = (y == output['preds']).mean()\n",
    "admit_percent = output['preds'].mean()\n",
    "\n",
    "print('Prediction accuracy:\\n{}'.format(accuracy))\n",
    "print('\\nPredicted admission percentage:\\n{}'.format(admit_percent))"
   ]
  },
  {
   "cell_type": "markdown",
   "metadata": {},
   "source": [
    "## Plot Decision Boundary"
   ]
  },
  {
   "cell_type": "code",
   "execution_count": 145,
   "metadata": {
    "ExecuteTime": {
     "end_time": "2019-01-24T09:08:52.965645Z",
     "start_time": "2019-01-24T09:08:52.688804Z"
    }
   },
   "outputs": [
    {
     "data": {
      "image/png": "[encoded data removed]",
      "text/plain": [
       "<Figure size 648x432 with 1 Axes>"
      ]
     },
     "metadata": {},
     "output_type": "display_data"
    }
   ],
   "source": [
    "theta0_val_range = np.linspace(25,100,76)\n",
    "theta1_val_range = np.linspace(25,100,76)\n",
    "theta00, theta11 = np.meshgrid(theta0_val_range, theta1_val_range)\n",
    "X_grid = np.column_stack((theta00.ravel(), theta11.ravel()))\n",
    "grid_probs = scale_predict(X_grid, col_means, col_stdevs, theta_vals)['probs']\n",
    "\n",
    "# Contour plot used to visually split predictions in half\n",
    "fig, ax = plt.subplots(figsize=(9,6))\n",
    "ax.contour(theta00, theta11, grid_probs.reshape(theta00.shape[0],-1), 1, \n",
    "           colors='red', linewidths=1)\n",
    "ax.scatter(X[:,0], X[:,1], c=y, cmap='bwr', s=10)\n",
    "plt.xlim(25,100)\n",
    "plt.ylim(25,100)\n",
    "plt.xlabel('Exam 1 Score')\n",
    "plt.ylabel('Exam 2 Score')\n",
    "plt.title('Decision Boundary', fontsize=16)\n",
    "plt.show()"
   ]
  },
  {
   "cell_type": "code",
   "execution_count": 143,
   "metadata": {
    "ExecuteTime": {
     "end_time": "2019-01-24T09:06:53.599180Z",
     "start_time": "2019-01-24T09:06:53.590177Z"
    }
   },
   "outputs": [
    {
     "data": {
      "text/plain": [
       "{'probs': array([0.76550123]), 'preds': array([1])}"
      ]
     },
     "execution_count": 143,
     "metadata": {},
     "output_type": "execute_result"
    }
   ],
   "source": [
    "sample_student = np.array([[45, 85]])\n",
    "scale_predict(sample_student, col_means, col_stdevs, theta_vals)"
   ]
  },
  {
   "cell_type": "markdown",
   "metadata": {},
   "source": [
    "# scikit-learn Implementation\n",
    "\n",
    "For comparison, let's create a logistic regression classifier using scikit-learn and Pandas. In this case, I will use a standard train/test split."
   ]
  },
  {
   "cell_type": "code",
   "execution_count": 152,
   "metadata": {
    "ExecuteTime": {
     "end_time": "2019-01-24T09:15:08.677598Z",
     "start_time": "2019-01-24T09:15:08.673140Z"
    }
   },
   "outputs": [],
   "source": [
    "import pandas as pd\n",
    "from sklearn.model_selection import train_test_split\n",
    "from sklearn.preprocessing import StandardScaler\n",
    "from sklearn.linear_model import LogisticRegression\n",
    "from sklearn.metrics import accuracy_score\n",
    "from sklearn.pipeline import Pipeline\n",
    "from mlxtend.plotting import plot_decision_regions"
   ]
  },
  {
   "cell_type": "code",
   "execution_count": 153,
   "metadata": {
    "ExecuteTime": {
     "end_time": "2019-01-24T09:15:09.018064Z",
     "start_time": "2019-01-24T09:15:09.001569Z"
    }
   },
   "outputs": [
    {
     "name": "stdout",
     "output_type": "stream",
     "text": [
      "       score1     score2\n",
      "14  39.538339  76.036811\n",
      "11  75.013658  30.603263\n",
      "24  77.924091  68.972360\n",
      "73  60.457886  73.094998\n",
      "69  66.746719  60.991394\n"
     ]
    }
   ],
   "source": [
    "# Load dataset and split into X and y.\n",
    "df = pd.read_csv(r'data/ex2data1.txt', names=['score1', 'score2', 'accepted'])\n",
    "X, y = df.iloc[:,:-1], df.iloc[:,-1]\n",
    "X_train, X_test, y_train, y_test = train_test_split(X, y, train_size=0.75)\n",
    "\n",
    "print(X_train.head())"
   ]
  },
  {
   "cell_type": "markdown",
   "metadata": {},
   "source": [
    "## Data Pipeline"
   ]
  },
  {
   "cell_type": "code",
   "execution_count": 154,
   "metadata": {
    "ExecuteTime": {
     "end_time": "2019-01-24T09:15:09.949434Z",
     "start_time": "2019-01-24T09:15:09.937981Z"
    }
   },
   "outputs": [
    {
     "name": "stdout",
     "output_type": "stream",
     "text": [
      "Training Accuracy: 0.88\n"
     ]
    }
   ],
   "source": [
    "# Create pipeline to perform feature scaling, fit model, and predict values.\n",
    "pipe = Pipeline([('sc', StandardScaler()),('lr', LogisticRegression())])\n",
    "pipe.fit(X_train, y_train)\n",
    "predicted_probs_train = pipe.predict_proba(X_train)\n",
    "predictions_train = pipe.predict(X_train)\n",
    "accuracy = accuracy_score(y_train, predictions_train)\n",
    "print(f'Training Accuracy: {accuracy:.2f}')"
   ]
  },
  {
   "cell_type": "code",
   "execution_count": 155,
   "metadata": {
    "ExecuteTime": {
     "end_time": "2019-01-24T09:15:10.521698Z",
     "start_time": "2019-01-24T09:15:10.513924Z"
    }
   },
   "outputs": [
    {
     "name": "stdout",
     "output_type": "stream",
     "text": [
      "Test accuracy: 0.96\n"
     ]
    }
   ],
   "source": [
    "preds_test = pipe.predict(X_test)\n",
    "probs_test = pipe.predict_proba(X_test)\n",
    "accuracy_test = accuracy_score(y_test, preds_test)\n",
    "print(f'Test accuracy: {accuracy_test}')"
   ]
  },
  {
   "cell_type": "code",
   "execution_count": 156,
   "metadata": {
    "ExecuteTime": {
     "end_time": "2019-01-24T09:15:13.383216Z",
     "start_time": "2019-01-24T09:15:13.376472Z"
    }
   },
   "outputs": [
    {
     "name": "stdout",
     "output_type": "stream",
     "text": [
      "Bias: 0.9947760289143478\n",
      "Weights: [1.89826414 1.88518796]\n"
     ]
    }
   ],
   "source": [
    "print(f\"Bias: {pipe.named_steps['lr'].intercept_[0]}\")\n",
    "print(f\"Weights: {np.squeeze(pipe.named_steps['lr'].coef_)}\")"
   ]
  },
  {
   "cell_type": "markdown",
   "metadata": {},
   "source": [
    "## Additional Metrics"
   ]
  },
  {
   "cell_type": "code",
   "execution_count": 157,
   "metadata": {
    "ExecuteTime": {
     "end_time": "2019-01-24T09:15:17.063951Z",
     "start_time": "2019-01-24T09:15:17.039045Z"
    }
   },
   "outputs": [
    {
     "name": "stdout",
     "output_type": "stream",
     "text": [
      "Sensitivity: 1.0\n",
      "Specificity: 0.92\n"
     ]
    },
    {
     "data": {
      "text/html": [
       "<div>\n",
       "<style scoped>\n",
       "    .dataframe tbody tr th:only-of-type {\n",
       "        vertical-align: middle;\n",
       "    }\n",
       "\n",
       "    .dataframe tbody tr th {\n",
       "        vertical-align: top;\n",
       "    }\n",
       "\n",
       "    .dataframe thead th {\n",
       "        text-align: right;\n",
       "    }\n",
       "</style>\n",
       "<table border=\"1\" class=\"dataframe\">\n",
       "  <thead>\n",
       "    <tr style=\"text-align: right;\">\n",
       "      <th></th>\n",
       "      <th>p_reject</th>\n",
       "      <th>p_accept</th>\n",
       "      <th>prediction</th>\n",
       "      <th>actual</th>\n",
       "    </tr>\n",
       "  </thead>\n",
       "  <tbody>\n",
       "    <tr>\n",
       "      <th>0</th>\n",
       "      <td>0.153885</td>\n",
       "      <td>0.846115</td>\n",
       "      <td>1</td>\n",
       "      <td>1</td>\n",
       "    </tr>\n",
       "    <tr>\n",
       "      <th>1</th>\n",
       "      <td>0.541217</td>\n",
       "      <td>0.458783</td>\n",
       "      <td>0</td>\n",
       "      <td>0</td>\n",
       "    </tr>\n",
       "    <tr>\n",
       "      <th>2</th>\n",
       "      <td>0.024759</td>\n",
       "      <td>0.975241</td>\n",
       "      <td>1</td>\n",
       "      <td>1</td>\n",
       "    </tr>\n",
       "    <tr>\n",
       "      <th>3</th>\n",
       "      <td>0.013352</td>\n",
       "      <td>0.986648</td>\n",
       "      <td>1</td>\n",
       "      <td>1</td>\n",
       "    </tr>\n",
       "    <tr>\n",
       "      <th>4</th>\n",
       "      <td>0.909852</td>\n",
       "      <td>0.090148</td>\n",
       "      <td>0</td>\n",
       "      <td>0</td>\n",
       "    </tr>\n",
       "  </tbody>\n",
       "</table>\n",
       "</div>"
      ],
      "text/plain": [
       "   p_reject  p_accept  prediction  actual\n",
       "0  0.153885  0.846115           1       1\n",
       "1  0.541217  0.458783           0       0\n",
       "2  0.024759  0.975241           1       1\n",
       "3  0.013352  0.986648           1       1\n",
       "4  0.909852  0.090148           0       0"
      ]
     },
     "execution_count": 157,
     "metadata": {},
     "output_type": "execute_result"
    }
   ],
   "source": [
    "df_preds = pd.DataFrame(probs_test, columns=['p_reject', 'p_accept'])\n",
    "# df_preds['p_reject'] = predicted_probs_train[:,0]\n",
    "# df_preds['p_accept'] = predicted_probs_train[:,1]\n",
    "df_preds['prediction'] = preds_test\n",
    "df_preds['actual'] = y_test.values\n",
    "\n",
    "# Calculate sensitivity and specificity.\n",
    "tp = df_preds[(df_preds['prediction']==1) & (df_preds['actual']==1)].shape[0]\n",
    "fp = df_preds[(df_preds['prediction']==1) & (df_preds['actual']==0)].shape[0]\n",
    "tn = df_preds[(df_preds['prediction']==0) & (df_preds['actual']==0)].shape[0]\n",
    "fn = df_preds[(df_preds['prediction']==0) & (df_preds['actual']==1)].shape[0]\n",
    "\n",
    "sensitivity = round(tp / (tp + fn), 2)\n",
    "specificity = round(tn / (tn + fp), 2)\n",
    "print('Sensitivity:', sensitivity)\n",
    "print('Specificity:', specificity)\n",
    "df_preds.head(5)"
   ]
  },
  {
   "cell_type": "code",
   "execution_count": 158,
   "metadata": {
    "ExecuteTime": {
     "end_time": "2019-01-24T09:15:18.322395Z",
     "start_time": "2019-01-24T09:15:17.984382Z"
    }
   },
   "outputs": [
    {
     "data": {
      "image/png": "[encoded data removed]",
      "text/plain": [
       "<Figure size 648x432 with 1 Axes>"
      ]
     },
     "metadata": {},
     "output_type": "display_data"
    }
   ],
   "source": [
    "fig = plt.figure(figsize=(9,6))\n",
    "plot_decision_regions(np.array(X), np.array(y), pipe)\n",
    "plt.title('Admission Predictions', fontsize=16)\n",
    "plt.xlabel('Exam 1 Score')\n",
    "plt.ylabel('Exam 2 Score')\n",
    "plt.ylim(30,100)\n",
    "plt.legend(bbox_to_anchor=(1.1,1.03))\n",
    "plt.show()"
   ]
  }
 ],
 "metadata": {
  "kernelspec": {
   "display_name": "Python 3",
   "language": "python",
   "name": "python3"
  },
  "language_info": {
   "codemirror_mode": {
    "name": "ipython",
    "version": 3
   },
   "file_extension": ".py",
   "mimetype": "text/x-python",
   "name": "python",
   "nbconvert_exporter": "python",
   "pygments_lexer": "ipython3",
   "version": "3.6.0"
  }
 },
 "nbformat": 4,
 "nbformat_minor": 2
}
