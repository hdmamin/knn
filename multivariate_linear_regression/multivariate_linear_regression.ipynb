{
 "cells": [
  {
   "cell_type": "markdown",
   "metadata": {},
   "source": [
    "## Multivariate Linear Regression\n",
    "\n",
    "Building on our univariate linear regression model, we will take a look at the multivariate case. Our sample dataset contains housing prices for Portland, Oregon. Features consist of size (square footage) and # of bedrooms."
   ]
  },
  {
   "cell_type": "code",
   "execution_count": 39,
   "metadata": {
    "ExecuteTime": {
     "end_time": "2019-01-27T23:23:54.971900Z",
     "start_time": "2019-01-27T23:23:54.959984Z"
    }
   },
   "outputs": [],
   "source": [
    "import numpy as np\n",
    "from numpy.linalg import pinv\n",
    "import matplotlib.pyplot as plt\n",
    "import seaborn as sns\n",
    "import warnings\n",
    "\n",
    "%matplotlib inline\n",
    "warnings.filterwarnings('ignore')"
   ]
  },
  {
   "cell_type": "code",
   "execution_count": 2,
   "metadata": {
    "ExecuteTime": {
     "end_time": "2019-01-27T23:16:05.143552Z",
     "start_time": "2019-01-27T23:16:05.137017Z"
    }
   },
   "outputs": [],
   "source": [
    "def scale_features(X, means=None, stds=None):\n",
    "    \"\"\"Scale initial X matrix columns as (x - mean)/std.\"\"\"\n",
    "    if means is None and stds is None:\n",
    "        means = X.mean(axis=0)\n",
    "        stds = X.std(axis=0)\n",
    "    X = (X - means) / stds\n",
    "    return X, means, stds"
   ]
  },
  {
   "cell_type": "code",
   "execution_count": 93,
   "metadata": {
    "ExecuteTime": {
     "end_time": "2019-01-27T23:36:37.746318Z",
     "start_time": "2019-01-27T23:36:37.741223Z"
    }
   },
   "outputs": [],
   "source": [
    "def cost(X, y, theta):\n",
    "    \"\"\"Calculate adjusted MSE for given theta.\"\"\"\n",
    "    m = X.shape[0]\n",
    "    error = y - (X @ theta)\n",
    "    sse = error @ error.T\n",
    "    return sse / (2 * m)"
   ]
  },
  {
   "cell_type": "code",
   "execution_count": 171,
   "metadata": {
    "ExecuteTime": {
     "end_time": "2019-01-28T00:15:24.135166Z",
     "start_time": "2019-01-28T00:15:24.122944Z"
    }
   },
   "outputs": [],
   "source": [
    "def gradient_descent(X, y, theta, alpha, iterations, min_improvement=0.00001):\n",
    "    \"\"\"Run given # of iterations of gradient descent, starting with theta as\n",
    "    a zero vector, to find optimal values of theta to minimize cost.\n",
    "    \"\"\"\n",
    "    m = X.shape[0]\n",
    "    cost_vals = []\n",
    "    for i in range(iterations):\n",
    "        cost_vals.append(cost(X, y, theta))\n",
    "        if (i > 0) and (i % 50 == 0):\n",
    "            if cost_vals[-2] - cost_vals[-1] < min_improvement:\n",
    "                print('Converged after {} iterations.'.format(i))\n",
    "                break\n",
    "        grad = -X.T @ (y - X @ theta)\n",
    "        theta = theta - (alpha/m) * grad\n",
    "    return theta, cost_vals"
   ]
  },
  {
   "cell_type": "code",
   "execution_count": 153,
   "metadata": {
    "ExecuteTime": {
     "end_time": "2019-01-28T00:01:12.496194Z",
     "start_time": "2019-01-28T00:01:12.489058Z"
    }
   },
   "outputs": [],
   "source": [
    "def scale_predict(X, theta, means, stds):\n",
    "    \"\"\"Pass in X as a numpy array and scale using the parameters calculated \n",
    "    on the initial dataset. Returns the predicted values using the weights \n",
    "    optimized through gradient descent.\n",
    "    \"\"\"\n",
    "    X = scale_features(X, means, stds)[0]\n",
    "    X = np.column_stack((np.ones(X.shape[0]), X))\n",
    "    return X.dot(theta)"
   ]
  },
  {
   "cell_type": "code",
   "execution_count": 154,
   "metadata": {
    "ExecuteTime": {
     "end_time": "2019-01-28T00:01:13.035013Z",
     "start_time": "2019-01-28T00:01:13.030557Z"
    }
   },
   "outputs": [],
   "source": [
    "def normal_equation(X, y):\n",
    "    \"\"\"Calculate weights using normal equation.\"\"\"\n",
    "    t1 = np.linalg.pinv(np.dot(X.T, X))\n",
    "    t2 = np.dot(X.T, y)\n",
    "    return np.dot(t1, t2)"
   ]
  },
  {
   "cell_type": "markdown",
   "metadata": {},
   "source": [
    "## Load Dataset"
   ]
  },
  {
   "cell_type": "code",
   "execution_count": 155,
   "metadata": {
    "ExecuteTime": {
     "end_time": "2019-01-28T00:01:13.562757Z",
     "start_time": "2019-01-28T00:01:13.552667Z"
    }
   },
   "outputs": [
    {
     "name": "stdout",
     "output_type": "stream",
     "text": [
      "X dimensions: (47, 2)\n",
      "ny dimensions: (47,)\n"
     ]
    }
   ],
   "source": [
    "data_multi = np.loadtxt(r'data/ex1data2.txt', delimiter=',')\n",
    "\n",
    "# x1 = square footage, x2 = # of bedrooms\n",
    "# y = sale price\n",
    "X = data_multi[:,:-1]\n",
    "y = data_multi[:,-1]\n",
    "m, n = X.shape\n",
    "print('X dimensions:', X.shape)\n",
    "print('ny dimensions:', y.shape)"
   ]
  },
  {
   "cell_type": "code",
   "execution_count": 156,
   "metadata": {
    "ExecuteTime": {
     "end_time": "2019-01-28T00:01:13.999302Z",
     "start_time": "2019-01-28T00:01:13.837348Z"
    }
   },
   "outputs": [
    {
     "data": {
      "image/png": "[encoded data removed]",
      "text/plain": [
       "<matplotlib.figure.Figure at 0x1122ab208>"
      ]
     },
     "metadata": {},
     "output_type": "display_data"
    }
   ],
   "source": [
    "bubble_sizes = 600 * (y - y.min() + 1) / (y.max() - y.min())\n",
    "\n",
    "fig, ax = plt.subplots(figsize=(9,6))\n",
    "ax.scatter(X[:,0], X[:,1], s=bubble_sizes, alpha=0.5, linewidths=1)\n",
    "plt.title('Portland Housing Prices', fontsize=16)\n",
    "plt.xlabel('Square Footage')\n",
    "plt.ylabel('# of Bathrooms')\n",
    "plt.show()"
   ]
  },
  {
   "cell_type": "markdown",
   "metadata": {},
   "source": [
    "## Feature Scaling"
   ]
  },
  {
   "cell_type": "code",
   "execution_count": 157,
   "metadata": {
    "ExecuteTime": {
     "end_time": "2019-01-28T00:01:14.808125Z",
     "start_time": "2019-01-28T00:01:14.799514Z"
    }
   },
   "outputs": [
    {
     "name": "stdout",
     "output_type": "stream",
     "text": [
      "Feature means: [2000.68085106    3.17021277]\n",
      "Feature standard deviations: [7.86202619e+02 7.52842809e-01]\n"
     ]
    }
   ],
   "source": [
    "# Normalize features and add bias column.\n",
    "X_scaled, col_means, col_stds = scale_features(X)\n",
    "X_scaled = np.column_stack((np.ones(m), X_scaled))\n",
    "\n",
    "print(f'Feature means: {col_means}')\n",
    "print(f'Feature standard deviations: {col_stds}')"
   ]
  },
  {
   "cell_type": "markdown",
   "metadata": {},
   "source": [
    "## Gradient Descent"
   ]
  },
  {
   "cell_type": "code",
   "execution_count": 175,
   "metadata": {
    "ExecuteTime": {
     "end_time": "2019-01-28T00:16:10.509047Z",
     "start_time": "2019-01-28T00:16:10.349044Z"
    },
    "scrolled": false
   },
   "outputs": [
    {
     "name": "stdout",
     "output_type": "stream",
     "text": [
      "Converged after 700 iterations.\n",
      "Weights: [340412.65957447 109447.7864647   -6578.34484922]\n"
     ]
    },
    {
     "data": {
      "image/png": "[encoded data removed]",
      "text/plain": [
       "<matplotlib.figure.Figure at 0x1116f84e0>"
      ]
     },
     "metadata": {},
     "output_type": "display_data"
    }
   ],
   "source": [
    "theta_multi = np.zeros(n+1)\n",
    "alpha = 0.05\n",
    "iterations = 1000\n",
    "\n",
    "theta_m_vals, costs = gradient_descent(X_scaled, y,\n",
    "                                       theta_multi,\n",
    "                                       alpha, \n",
    "                                       iterations)\n",
    "print('Weights:', theta_m_vals)\n",
    "\n",
    "fig, ax = plt.subplots()\n",
    "ax.plot(range(50, len(costs)), costs[50:])\n",
    "plt.title('Cost During Gradient Descent', fontsize=16)\n",
    "plt.xlabel('Iterations')\n",
    "plt.ylabel('J(theta)')\n",
    "plt.show()"
   ]
  },
  {
   "cell_type": "code",
   "execution_count": 176,
   "metadata": {
    "ExecuteTime": {
     "end_time": "2019-01-28T00:16:15.629194Z",
     "start_time": "2019-01-28T00:16:15.469522Z"
    }
   },
   "outputs": [
    {
     "data": {
      "image/png": "[encoded data removed]",
      "text/plain": [
       "<matplotlib.figure.Figure at 0x1a1743e198>"
      ]
     },
     "metadata": {},
     "output_type": "display_data"
    }
   ],
   "source": [
    "fig, ax = plt.subplots(figsize=(9,6))\n",
    "ax.scatter(price_preds, y - price_preds, alpha=0.75, color='red', \n",
    "        label='residuals')\n",
    "ax.axhline(y=0)\n",
    "plt.title('Residuals vs. Fitted Values', fontsize=16)\n",
    "plt.xlabel('Sample #')\n",
    "plt.ylabel('Price')\n",
    "plt.legend(loc='upper right')\n",
    "plt.show()"
   ]
  },
  {
   "cell_type": "code",
   "execution_count": 178,
   "metadata": {
    "ExecuteTime": {
     "end_time": "2019-01-28T00:16:42.321896Z",
     "start_time": "2019-01-28T00:16:42.315411Z"
    }
   },
   "outputs": [
    {
     "name": "stdout",
     "output_type": "stream",
     "text": [
      "Sample prediction: 1650 sq ft, 3 bedrooms:\n",
      "$293081.47\n"
     ]
    }
   ],
   "source": [
    "sample_house = np.array([[1650, 3]])\n",
    "sample_pred = scale_predict(sample_house, theta_m_vals, col_means, col_stds)\n",
    "\n",
    "print('Sample prediction: 1650 sq ft, 3 bedrooms:\\n${}'\\\n",
    "      .format(np.squeeze(np.round(sample_pred, 2))))"
   ]
  },
  {
   "cell_type": "markdown",
   "metadata": {},
   "source": [
    "## Normal Equation\n",
    "\n",
    "For comparison, use the normal equation to find theta values."
   ]
  },
  {
   "cell_type": "code",
   "execution_count": 180,
   "metadata": {
    "ExecuteTime": {
     "end_time": "2019-01-28T00:17:14.374920Z",
     "start_time": "2019-01-28T00:17:14.366029Z"
    }
   },
   "outputs": [
    {
     "name": "stdout",
     "output_type": "stream",
     "text": [
      "Theta values from normal equation:\n",
      "[340412.65957447 109447.79646964  -6578.35485416]\n",
      "\n",
      "Sample prediction: 1650 sq feet, 3 bedrooms\n",
      "$293081.46\n"
     ]
    }
   ],
   "source": [
    "norm_eq_theta = normal_equation(X_scaled, y)\n",
    "norm_prediction = scale_predict(np.array([[1650, 3]]), norm_eq_theta,\n",
    "                                col_means, col_stds)\n",
    "\n",
    "print('Theta values from normal equation:\\n{}'.format(norm_eq_theta))\n",
    "print('\\nSample prediction: 1650 sq feet, 3 bedrooms')\n",
    "print(f'${np.squeeze(norm_prediction):.2f}')"
   ]
  },
  {
   "cell_type": "markdown",
   "metadata": {},
   "source": [
    "# scikit-learn Implementation\n",
    "\n",
    "For comparison, let's train a roughly equivalent model using scikit-learn."
   ]
  },
  {
   "cell_type": "code",
   "execution_count": 182,
   "metadata": {
    "ExecuteTime": {
     "end_time": "2019-01-28T00:18:00.488708Z",
     "start_time": "2019-01-28T00:18:00.470813Z"
    }
   },
   "outputs": [],
   "source": [
    "import pandas as pd\n",
    "from sklearn.preprocessing import StandardScaler\n",
    "from sklearn.linear_model import LinearRegression\n",
    "from sklearn.model_selection import train_test_split\n",
    "from sklearn.model_selection import cross_val_score, cross_val_predict\n",
    "from sklearn.metrics import mean_squared_error\n",
    "from sklearn.pipeline import Pipeline\n",
    "\n",
    "# Load data and split into X and y dataframes.\n",
    "df = pd.read_csv(r'data/ex1data2.txt', names=['square_ft','bedrooms','price'])\n",
    "X = df.iloc[:,:-1]\n",
    "y = df.iloc[:,-1]\n",
    "X_train, X_test, y_train, y_test = train_test_split(X, y, train_size=0.75)"
   ]
  },
  {
   "cell_type": "code",
   "execution_count": 183,
   "metadata": {
    "ExecuteTime": {
     "end_time": "2019-01-28T00:18:07.718083Z",
     "start_time": "2019-01-28T00:18:07.694232Z"
    }
   },
   "outputs": [
    {
     "name": "stdout",
     "output_type": "stream",
     "text": [
      "Mean squared error: 3944431464.7347946\n",
      "Weights: [331079.85714286 116563.85274984 -10055.30197917]\n"
     ]
    }
   ],
   "source": [
    "# IN PROGRESS - BUILDING PIPELINE TO STREAMLINE FIT/PREDICT PROCESS\n",
    "pipe = Pipeline([('sc', StandardScaler()), ('lr', LinearRegression())])\n",
    "pipe.fit(X_train, y_train)\n",
    "mses = cross_val_score(pipe, X_train, y_train, cv=3, \n",
    "                       scoring='neg_mean_squared_error')\n",
    "j = -np.mean(mses)\n",
    "weights_skl = np.array([pipe.named_steps['lr'].intercept_, \n",
    "                        *pipe.named_steps['lr'].coef_])\n",
    "\n",
    "print('Mean squared error: ' + str(j))\n",
    "print('Weights: ' + str(weights_skl))"
   ]
  },
  {
   "cell_type": "code",
   "execution_count": 191,
   "metadata": {
    "ExecuteTime": {
     "end_time": "2019-01-28T00:20:45.244509Z",
     "start_time": "2019-01-28T00:20:45.231845Z"
    }
   },
   "outputs": [
    {
     "name": "stdout",
     "output_type": "stream",
     "text": [
      "Test set - mean squared error: 6308513967.943877\n",
      "\n",
      "    square_ft  bedrooms  actual_price    predictions\n",
      "0      2300.0       4.0      449900.0  364980.978636\n",
      "1      2040.0       4.0      314900.0  329462.338845\n",
      "2      3137.0       3.0      579900.0  492140.414223\n",
      "3      1985.0       4.0      299900.0  321948.780427\n",
      "4      2400.0       3.0      369000.0  391458.731429\n",
      "5      2104.0       3.0      399900.0  351022.126128\n",
      "6      1767.0       3.0      252900.0  304984.504552\n",
      "7      3000.0       4.0      539900.0  460608.085767\n",
      "8      1811.0       4.0      285900.0  298178.613797\n",
      "9      1236.0       3.0      199900.0  232444.513285\n",
      "10     1888.0       2.0      255000.0  334331.070558\n",
      "11     1458.0       3.0      464500.0  262771.967261\n"
     ]
    }
   ],
   "source": [
    "test_preds = pipe.predict(X_test)\n",
    "test_mse = mean_squared_error(y_test, test_preds)\n",
    "test_df = pd.DataFrame(data=np.column_stack((X_test, y_test, test_preds)),\n",
    "          columns=['square_ft', 'bedrooms', 'actual_price', 'predictions'])\n",
    "#test_df['actual'] = y_test.reset_index(drop=True)\n",
    "\n",
    "print('Test set - mean squared error: ' + str(test_mse) + '\\n')\n",
    "print(test_df)"
   ]
  },
  {
   "cell_type": "code",
   "execution_count": 192,
   "metadata": {
    "ExecuteTime": {
     "end_time": "2019-01-28T00:21:00.637771Z",
     "start_time": "2019-01-28T00:21:00.632487Z"
    }
   },
   "outputs": [
    {
     "name": "stdout",
     "output_type": "stream",
     "text": [
      "Sample prediction (1650 sq ft, 3 bathrooms): $289001.1166453474\n"
     ]
    }
   ],
   "source": [
    "sample_pred_skl = pipe.predict([[1650, 3]])\n",
    "print('Sample prediction (1650 sq ft, 3 bathrooms): $' + \n",
    "      str(np.squeeze(sample_pred_skl)))"
   ]
  },
  {
   "cell_type": "markdown",
   "metadata": {},
   "source": [
    "# old method - no pipeline"
   ]
  },
  {
   "cell_type": "code",
   "execution_count": 195,
   "metadata": {
    "ExecuteTime": {
     "end_time": "2019-01-28T00:21:08.730412Z",
     "start_time": "2019-01-28T00:21:08.713245Z"
    }
   },
   "outputs": [
    {
     "name": "stdout",
     "output_type": "stream",
     "text": [
      "Theta values: 346168.45714285714 117213.21887065322 -6237.215777593505\n",
      "Predict new example: 1650 square feet, 3 bedrooms\n",
      "$297760.49\n"
     ]
    }
   ],
   "source": [
    "X_train, X_test, y_train, y_test = train_test_split(X, y, train_size=0.75)\n",
    "\n",
    "# Perform feature scaling.\n",
    "sc = StandardScaler()\n",
    "X_train = sc.fit_transform(X_train)\n",
    "\n",
    "# Fit linear regression model to data and predict price for sample house.\n",
    "lr = LinearRegression(normalize=True)\n",
    "lr.fit(X_train, y_train)\n",
    "theta0 = lr.intercept_\n",
    "theta1, theta2 = lr.coef_\n",
    "print('Theta values:', theta0, theta1, theta2)\n",
    "\n",
    "sample_pred_old = sc.transform(np.array([1650, 3]).reshape(1, -1))\n",
    "prediction = lr.predict(sample_pred_old)\n",
    "print(f'Predict new example: 1650 square feet, 3 bedrooms\\n${prediction[0]:.2f}')"
   ]
  }
 ],
 "metadata": {
  "kernelspec": {
   "display_name": "Python 3",
   "language": "python",
   "name": "python3"
  },
  "language_info": {
   "codemirror_mode": {
    "name": "ipython",
    "version": 3
   },
   "file_extension": ".py",
   "mimetype": "text/x-python",
   "name": "python",
   "nbconvert_exporter": "python",
   "pygments_lexer": "ipython3",
   "version": "3.6.4"
  }
 },
 "nbformat": 4,
 "nbformat_minor": 2
}
