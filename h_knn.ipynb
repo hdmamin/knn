{
 "cells": [
  {
   "cell_type": "code",
   "execution_count": 5,
   "metadata": {},
   "outputs": [],
   "source": [
    "import numpy as np\n",
    "import pandas as pd"
   ]
  },
  {
   "cell_type": "code",
   "execution_count": 76,
   "metadata": {},
   "outputs": [],
   "source": [
    "def classify_response(val):\n",
    "    \"\"\"Parse response column from csv.\"\"\"\n",
    "    return (val == 'Abnormal') * 1"
   ]
  },
  {
   "cell_type": "code",
   "execution_count": 77,
   "metadata": {},
   "outputs": [],
   "source": [
    "X = np.loadtxt('bio.csv', skiprows=1, delimiter=',', usecols=range(6))\n",
    "y = np.loadtxt('bio.csv', skiprows=1, delimiter=',', usecols=6, dtype=np.str)\n",
    "y = classify_response(y)"
   ]
  },
  {
   "cell_type": "code",
   "execution_count": 78,
   "metadata": {},
   "outputs": [],
   "source": [
    "def scale_mean(df, fitted_stats=None):\n",
    "    \"\"\"Pass in df of features. Scale each column by subtracting \n",
    "    its mean and dividing by its standard deviation. Return an array \n",
    "    with these statistics for each column.\n",
    "    \"\"\"\n",
    "    if fitted_stats is not None:\n",
    "        means, stds = fitted_stats\n",
    "    else:\n",
    "        means = np.mean(df, axis=0)\n",
    "        stds = np.std(df, axis=0)\n",
    "    df[:,:] = (df - means) / stds\n",
    "    return means, stds\n",
    "\n",
    "\n",
    "def scale_minmax(df, fitted_stats=None):\n",
    "    \"\"\"Pass in df of features. Scale each column so its values \n",
    "    lie between 0 and 1. Return an array with min and max for each\n",
    "    column.\n",
    "    \"\"\"\n",
    "    if fitted_stats is not None:\n",
    "        mins, maxes = fitted_stats\n",
    "    else:\n",
    "        mins = np.min(df, axis=0)\n",
    "        maxes = np.max(df, axis=0)\n",
    "    df[:,:] = (df - mins) / (maxes - mins)\n",
    "    return mins, maxes\n",
    "\n",
    "    \n",
    "def euclidean(vec1, vec2):\n",
    "    \"\"\"Find euclidean distance between two vectors.\n",
    "    Both vectors should be 2d np arrays.\n",
    "    \"\"\"\n",
    "    assert len(vec1.shape) > 1 and len(vec2.shape) > 1,\\\n",
    "        'Vectors must be 2d arrays'\n",
    "    return np.sqrt(np.sum((vec1 - vec2) ** 2, axis=1))\n",
    "\n",
    "\n",
    "def cosine_distance(vec1, vec2):\n",
    "    \"\"\"Find cosine distance between two vectors. Both vectors should be \n",
    "    2d np arrays.\n",
    "    \"\"\"\n",
    "    assert len(vec1.shape) > 1 and len(vec2.shape) > 1,\\\n",
    "        'Vectors must be 2d arrays'\n",
    "    zeros = np.zeros(shape = vec1.shape)\n",
    "    sim = (vec1.T @ vec2) / (euclidean(vec1, zeros) * euclidean(vec2, zeros))\n",
    "    return 1 - sim\n",
    "\n",
    "\n",
    "def neighbors(distances, k=5):\n",
    "    \"\"\"Return indices of the k observations with the smallest\n",
    "    distances.\n",
    "    \"\"\"\n",
    "    return np.argsort(distances)[:k]"
   ]
  },
  {
   "cell_type": "markdown",
   "metadata": {},
   "source": [
    "## Issues\n",
    "\n",
    "-figure out best way to handle dimensions for euclidean and cosine distance\n",
    "    -test how they work with different dimensions: diff combinations of nx1,\n",
    "    nxp, 1xn, nxm, etc.\n",
    "    -cosine distance may need troubleshooting\n",
    "    \n",
    "-better way to organize predictions within knn class: maybe need Prediction \n",
    "    subclass? Don't like how predict() stores attributes for a single pred\n",
    "    as attributes of the instance as a whole"
   ]
  },
  {
   "cell_type": "code",
   "execution_count": 79,
   "metadata": {},
   "outputs": [
    {
     "data": {
      "text/plain": [
       "array([[  0,   0,   0,   0,   0,   0,   0,   0,   0,   0],\n",
       "       [-10, -10, -10, -10, -10, -10, -10, -10, -10, -10],\n",
       "       [-20, -20, -20, -20, -20, -20, -20, -20, -20, -20],\n",
       "       [-30, -30, -30, -30, -30, -30, -30, -30, -30, -30],\n",
       "       [-40, -40, -40, -40, -40, -40, -40, -40, -40, -40]])"
      ]
     },
     "execution_count": 79,
     "metadata": {},
     "output_type": "execute_result"
    }
   ],
   "source": [
    "c = np.arange(10)\n",
    "d = np.arange(50).reshape(5,-1)\n",
    "c - d"
   ]
  },
  {
   "cell_type": "code",
   "execution_count": 80,
   "metadata": {},
   "outputs": [
    {
     "name": "stdout",
     "output_type": "stream",
     "text": [
      "(1, 10) (1, 10)\n"
     ]
    },
    {
     "data": {
      "text/plain": [
       "array([16.88194302])"
      ]
     },
     "execution_count": 80,
     "metadata": {},
     "output_type": "execute_result"
    }
   ],
   "source": [
    "a = np.arange(0, 10).reshape(1,-1)\n",
    "b = np.arange(0, 20, 2).reshape(1,-1)\n",
    "print(a.shape, b.shape)\n",
    "#cosine_distance(a, b)\n",
    "euclidean(a, np.zeros(a.shape))\n",
    "euclidean(a, b)"
   ]
  },
  {
   "cell_type": "code",
   "execution_count": 81,
   "metadata": {},
   "outputs": [],
   "source": [
    "class KNN():\n",
    "    \n",
    "    def __init__(self, X_train, y_train, k=5, scale='mean', \n",
    "                 distance='euclidean'):\n",
    "        self.X = X_train\n",
    "        self.y = y_train\n",
    "        self.k = k\n",
    "        self.scale = scale\n",
    "        self.distance = distance\n",
    "\n",
    "    def scale_features(self, df=None, stats=None):\n",
    "        \"\"\"Scale features using specified method.\"\"\"\n",
    "        df = self.X if df is None else df\n",
    "        if self.scale == 'mean':\n",
    "            self.stats = scale_mean(df, fitted_stats=stats)\n",
    "        elif self.scale == 'minmax':\n",
    "            self.stats = scale_minmax(df, fitted_stats=stats)\n",
    "\n",
    "    def predict(self, X_test):\n",
    "        \"\"\"Pass in 2d array of x values. Return indices and distances of\n",
    "        k nearest neighbors from the train set.\"\"\"\n",
    "        self.X_test = X_test\n",
    "        self.scale_features(self.X_test, stats=self.stats)\n",
    "        if self.distance == 'euclidean':\n",
    "            self.distances = euclidean(self.X_test, self.X)\n",
    "        elif self.distance == 'cosine':\n",
    "            self.distances = cosine_distance(self.X_test, self.X)\n",
    "        self.nearest_neighbors = neighbors(self.distances, self.k)\n",
    "        self.neighbor_distances = self.distances[self.nearest_neighbors]\n",
    "        self.prob = np.mean(self.y[self.nearest_neighbors])\n",
    "        return np.round(self.prob)"
   ]
  },
  {
   "cell_type": "code",
   "execution_count": 92,
   "metadata": {},
   "outputs": [],
   "source": [
    "mod = KNN(X_train=X, y_train=y, scale='minmax', distance='euclidean')"
   ]
  },
  {
   "cell_type": "code",
   "execution_count": 93,
   "metadata": {},
   "outputs": [],
   "source": [
    "mod.scale_features()"
   ]
  },
  {
   "cell_type": "code",
   "execution_count": 94,
   "metadata": {},
   "outputs": [
    {
     "name": "stdout",
     "output_type": "stream",
     "text": [
      "[[23.51694891 33.15871084 41.4227352   6.83706634 59.94725918  4.41213211]]\n"
     ]
    }
   ],
   "source": [
    "new_x = np.random.rand(1, 6) * 60\n",
    "print(new_x)\n",
    "distances = mod.predict(X_test=new_x)"
   ]
  },
  {
   "cell_type": "code",
   "execution_count": 95,
   "metadata": {},
   "outputs": [
    {
     "data": {
      "text/plain": [
       "1.0"
      ]
     },
     "execution_count": 95,
     "metadata": {},
     "output_type": "execute_result"
    }
   ],
   "source": [
    "distances"
   ]
  },
  {
   "cell_type": "code",
   "execution_count": 96,
   "metadata": {},
   "outputs": [
    {
     "data": {
      "text/plain": [
       "array([[23.51694891, 33.15871084, 41.4227352 ,  6.83706634, 59.94725918,\n",
       "         4.41213211]])"
      ]
     },
     "execution_count": 96,
     "metadata": {},
     "output_type": "execute_result"
    }
   ],
   "source": [
    "mod.X_test"
   ]
  },
  {
   "cell_type": "code",
   "execution_count": 97,
   "metadata": {},
   "outputs": [
    {
     "name": "stdout",
     "output_type": "stream",
     "text": [
      "[197 201 114 141 202]\n",
      "[82.41659569 82.46959607 82.47718841 82.48495141 82.4997011 ]\n",
      "1.0\n"
     ]
    }
   ],
   "source": [
    "print(mod.nearest_neighbors)\n",
    "print(mod.neighbor_distances)\n",
    "print(mod.prob)"
   ]
  },
  {
   "cell_type": "code",
   "execution_count": 98,
   "metadata": {},
   "outputs": [
    {
     "data": {
      "text/plain": [
       "KNeighborsClassifier(algorithm='auto', leaf_size=30, metric='minkowski',\n",
       "           metric_params=None, n_jobs=1, n_neighbors=5, p=2,\n",
       "           weights='uniform')"
      ]
     },
     "execution_count": 98,
     "metadata": {},
     "output_type": "execute_result"
    }
   ],
   "source": [
    "from sklearn.neighbors import KNeighborsClassifier\n",
    "\n",
    "sk_knn = KNeighborsClassifier(n_neighbors=5)\n",
    "sk_knn.fit(X, y)"
   ]
  },
  {
   "cell_type": "code",
   "execution_count": 99,
   "metadata": {},
   "outputs": [
    {
     "data": {
      "text/plain": [
       "(array([[82.41659569, 82.46959607, 82.47718841, 82.48495141, 82.4997011 ]]),\n",
       " array([[197, 201, 114, 141, 202]]))"
      ]
     },
     "execution_count": 99,
     "metadata": {},
     "output_type": "execute_result"
    }
   ],
   "source": [
    "sk_knn.kneighbors(new_x)"
   ]
  },
  {
   "cell_type": "code",
   "execution_count": 100,
   "metadata": {},
   "outputs": [],
   "source": [
    "import matplotlib.pyplot as plt\n",
    "import seaborn as sns\n",
    "\n",
    "%matplotlib inline\n",
    "sns.set_style('darkgrid')"
   ]
  },
  {
   "cell_type": "code",
   "execution_count": 103,
   "metadata": {},
   "outputs": [
    {
     "data": {
      "image/png": "[encoded data removed]",
      "text/plain": [
       "<matplotlib.figure.Figure at 0x1a1f2d9ac8>"
      ]
     },
     "metadata": {},
     "output_type": "display_data"
    }
   ],
   "source": [
    "fig, ax = plt.subplots()\n",
    "ax.scatter(X[:,0], X[:,1], c=y)\n",
    "plt.show()"
   ]
  },
  {
   "cell_type": "code",
   "execution_count": null,
   "metadata": {},
   "outputs": [],
   "source": []
  }
 ],
 "metadata": {
  "kernelspec": {
   "display_name": "Python 3",
   "language": "python",
   "name": "python3"
  },
  "language_info": {
   "codemirror_mode": {
    "name": "ipython",
    "version": 3
   },
   "file_extension": ".py",
   "mimetype": "text/x-python",
   "name": "python",
   "nbconvert_exporter": "python",
   "pygments_lexer": "ipython3",
   "version": "3.6.4"
  }
 },
 "nbformat": 4,
 "nbformat_minor": 2
}
