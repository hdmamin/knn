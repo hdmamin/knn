{
 "cells": [
  {
   "cell_type": "markdown",
   "metadata": {},
   "source": [
    "## K Nearest Neighbors"
   ]
  },
  {
   "cell_type": "code",
   "execution_count": 1,
   "metadata": {
    "ExecuteTime": {
     "end_time": "2019-01-23T03:34:50.864672Z",
     "start_time": "2019-01-23T03:34:50.749278Z"
    }
   },
   "outputs": [],
   "source": [
    "import numpy as np"
   ]
  },
  {
   "cell_type": "code",
   "execution_count": 2,
   "metadata": {
    "ExecuteTime": {
     "end_time": "2019-01-23T03:34:50.874831Z",
     "start_time": "2019-01-23T03:34:50.868672Z"
    }
   },
   "outputs": [],
   "source": [
    "def classify_response(val):\n",
    "    \"\"\"Parse response column from csv.\"\"\"\n",
    "    return np.where(val == 'Abnormal', 1, 0)"
   ]
  },
  {
   "cell_type": "code",
   "execution_count": 3,
   "metadata": {
    "ExecuteTime": {
     "end_time": "2019-01-23T03:34:50.893760Z",
     "start_time": "2019-01-23T03:34:50.878028Z"
    }
   },
   "outputs": [],
   "source": [
    "def scale_mean(df, fitted_stats=None):\n",
    "    \"\"\"Pass in df of features. Scale each column by subtracting \n",
    "    its mean and dividing by its standard deviation. Return an array \n",
    "    with these statistics for each column. When making predictions, can pass\n",
    "    in fitted_stats to scale using the training data.\n",
    "    \"\"\"\n",
    "    if fitted_stats is not None:\n",
    "        means, stds = fitted_stats['means'], fitted_stats['stds']\n",
    "    else:\n",
    "        means = np.mean(df, axis=0)\n",
    "        stds = np.std(df, axis=0)\n",
    "        fitted_stats = dict(means=means, stds=stds)\n",
    "    df = (df - means) / stds\n",
    "    return df, fitted_stats"
   ]
  },
  {
   "cell_type": "code",
   "execution_count": 4,
   "metadata": {
    "ExecuteTime": {
     "end_time": "2019-01-23T03:34:50.909803Z",
     "start_time": "2019-01-23T03:34:50.895793Z"
    }
   },
   "outputs": [],
   "source": [
    "def scale_minmax(df, fitted_stats=None):\n",
    "    \"\"\"Pass in df of features. Scale each column so its values \n",
    "    lie between 0 and 1. Return an array with min and max for each\n",
    "    column. When making predictions, can pass in fitted_stats to scale using\n",
    "    the training data.\n",
    "    \"\"\"\n",
    "    if fitted_stats is not None:\n",
    "        mins, maxes = fitted_stats['mins'], fitted_stats['maxes']\n",
    "    else:\n",
    "        mins = np.min(df, axis=0)\n",
    "        maxes = np.max(df, axis=0)\n",
    "        fitted_stats = dict(mins=mins, maxes=maxes)\n",
    "    df = (df - mins) / (maxes - mins)\n",
    "    return df, fitted_stats"
   ]
  },
  {
   "cell_type": "code",
   "execution_count": 5,
   "metadata": {
    "ExecuteTime": {
     "end_time": "2019-01-23T03:34:50.922819Z",
     "start_time": "2019-01-23T03:34:50.913108Z"
    }
   },
   "outputs": [],
   "source": [
    "def row_euclidean(v1, v2):\n",
    "    \"\"\"Compute row-wise euclidean distance between two arrays (rank 2).\n",
    "    Output is an array with a row for each row in v1, where each value in a\n",
    "    row is its euclidean distance to each row in v2.\n",
    "    \n",
    "    For KNN, v1 should typically be new data for making predictions, while v2\n",
    "    will contain all the potential neighbors.\n",
    "    \"\"\"\n",
    "    output = np.zeros((v1.shape[0], v2.shape[0]))\n",
    "    for i, row in enumerate(v1):\n",
    "        output[i] = np.sqrt(np.sum((v2 - row)**2, axis=1))\n",
    "    return output"
   ]
  },
  {
   "cell_type": "code",
   "execution_count": 6,
   "metadata": {
    "ExecuteTime": {
     "end_time": "2019-01-23T03:34:50.939876Z",
     "start_time": "2019-01-23T03:34:50.927196Z"
    }
   },
   "outputs": [],
   "source": [
    "def row_cosine_distance(v1, v2):\n",
    "    \"\"\"Find row-wise cosine distance between two vectors. Output array has 1 \n",
    "    row for each row in v1, where the values are distances to each row in \n",
    "    v2. Both input vectors should be rank 2.\n",
    "    \"\"\"\n",
    "    output = np.zeros((v1.shape[0], v2.shape[0]))\n",
    "    v_zeros = np.zeros((1, v1.shape[1]))\n",
    "    v1_norms = row_euclidean(v1, v_zeros)\n",
    "    v2_norms = row_euclidean(v2, v_zeros)\n",
    "    for i, row in enumerate(v1):\n",
    "        output[i] = 1 - (np.sum(row * v2, axis=1) \n",
    "                         / (v1_norms[i] * v2_norms).flatten())\n",
    "    return output"
   ]
  },
  {
   "cell_type": "code",
   "execution_count": 7,
   "metadata": {
    "ExecuteTime": {
     "end_time": "2019-01-23T03:34:50.948500Z",
     "start_time": "2019-01-23T03:34:50.943117Z"
    }
   },
   "outputs": [],
   "source": [
    "def mode(classes):\n",
    "    \"\"\"Find the most common class from a list or array of numbers.\"\"\"\n",
    "    class_counts = [(c, list(classes).count(c)) for c in set(classes)]\n",
    "    return sorted(class_counts, key=lambda x: x[1], reverse=True)[0][0]"
   ]
  },
  {
   "cell_type": "code",
   "execution_count": 8,
   "metadata": {
    "ExecuteTime": {
     "end_time": "2019-01-23T03:34:51.085097Z",
     "start_time": "2019-01-23T03:34:50.953773Z"
    }
   },
   "outputs": [],
   "source": [
    "class KNNClassifier():\n",
    "    \"\"\"Creates a K Nearest Neighbors classifier.\n",
    "    \n",
    "    Attributes:\n",
    "    -----------\n",
    "    X_train : ndarray\n",
    "        Array of features.\n",
    "    y_train : ndarray\n",
    "        Array of labels.\n",
    "    k : int\n",
    "        # of neighbors to return.\n",
    "    distance : str\n",
    "        One of ('euclidean', 'cosine'). 'Euclidean' computes the straight-line\n",
    "        distance between points. 'Cosine' distance is 1 - cosine similarity\n",
    "        and may be more appropriate in high dimensional spaces.\n",
    "    scale_method : str\n",
    "        One of ('mean', 'minmax'). 'Mean' standardizes the features to have\n",
    "        mean 0 and standard deviation 1. 'Minmax' normalizes features to lie\n",
    "        between 0 and 1. If None, no scaling will be done (not recommended).\n",
    "    \"\"\"\n",
    "    \n",
    "    def __init__(self, X_train, y_train, k=5, scale_method='mean', \n",
    "                 distance='euclidean'):\n",
    "        self.X = X_train\n",
    "        self.y = y_train\n",
    "        self.k = k\n",
    "        self.scale_method = scale_method\n",
    "        self.distance = distance\n",
    "        if self.scale_method:\n",
    "            self.X_scaled, self.stats = self._scale_features(self.X)\n",
    "\n",
    "    def _scale_features(self, df, stats=None):\n",
    "        \"\"\"Scale features using specified method.\"\"\"\n",
    "        if self.scale_method == 'mean':\n",
    "            return scale_mean(df, fitted_stats=stats)\n",
    "        elif self.scale_method == 'minmax':\n",
    "            return scale_minmax(df, fitted_stats=stats)\n",
    "            \n",
    "    def _find_neighbors(self):\n",
    "        \"\"\"Finds indices, distances, and classes for the k nearest \n",
    "        neighbors.\n",
    "        \"\"\"\n",
    "        self.nearest_neighbors = np.argsort(self.distances, axis=1)[:, :self.k]\n",
    "        self.neighbor_distances = np.sort(self.distances, axis=1)[:, :self.k]\n",
    "        self.neighbor_classes = np.array([self.y[row] for row in \n",
    "                                          self.nearest_neighbors])\n",
    "        \n",
    "    def _compute_certainty(self):\n",
    "        \"\"\"Using nearest neighbors, finds predicted class and class \n",
    "        certainty.\n",
    "        \"\"\"\n",
    "        self.predicted_class = [mode(row) for row in self.neighbor_classes]\n",
    "        self.class_certainty = [np.mean(classes == pred) for classes, pred in \n",
    "                                zip(self.neighbor_classes, self.predicted_class)]\n",
    "\n",
    "    def predict(self, X_new, k=5):\n",
    "        \"\"\"Pass in 2d array of x values. Return indices and distances of\n",
    "        k nearest neighbors from the train set.\"\"\"\n",
    "        if self.scale_method:\n",
    "            X_new_scaled, _ = self._scale_features(X_new, stats=self.stats)\n",
    "        if self.distance == 'euclidean':\n",
    "            self.distances = row_euclidean(X_new_scaled, self.X_scaled)\n",
    "        elif self.distance == 'cosine':\n",
    "            self.distances = row_cosine_distance(X_new_scaled, self.X_scaled)\n",
    "        self._find_neighbors()\n",
    "        self._compute_certainty()\n",
    "        \n",
    "        return dict(predicted_class=self.predicted_class,\n",
    "                    class_certainty=self.class_certainty,\n",
    "                    nearest_neighbors=self.nearest_neighbors,\n",
    "                    neighbor_classes=self.neighbor_classes,\n",
    "                    neighbor_distances=self.neighbor_distances)\n",
    "    \n",
    "    def __str__(self):\n",
    "        \"\"\"Display object details when printed.\"\"\"\n",
    "        return (f'KNNClassifier(k={self.k}, distance={self.distance},'\n",
    "                f' scale_method={self.scale_method})')\n",
    "    \n",
    "    def __repr__(self):\n",
    "        \"\"\"Display object details when called in interactive mode.\"\"\"\n",
    "        return self.__str__()"
   ]
  },
  {
   "cell_type": "markdown",
   "metadata": {},
   "source": [
    "### Fit a model using mean standardization and euclidean distance"
   ]
  },
  {
   "cell_type": "code",
   "execution_count": 9,
   "metadata": {
    "ExecuteTime": {
     "end_time": "2019-01-23T03:34:51.128015Z",
     "start_time": "2019-01-23T03:34:51.087558Z"
    }
   },
   "outputs": [],
   "source": [
    "fname = 'data/bio.csv'\n",
    "X = np.loadtxt(fname, skiprows=1, delimiter=',', usecols=range(6))\n",
    "y = np.loadtxt(fname, skiprows=1, delimiter=',', usecols=6, dtype=np.str)\n",
    "y = classify_response(y)"
   ]
  },
  {
   "cell_type": "code",
   "execution_count": 10,
   "metadata": {
    "ExecuteTime": {
     "end_time": "2019-01-23T03:34:51.141337Z",
     "start_time": "2019-01-23T03:34:51.129571Z"
    }
   },
   "outputs": [
    {
     "data": {
      "text/plain": [
       "KNNClassifier(k=5, distance=euclidean, scale_method=mean)"
      ]
     },
     "execution_count": 10,
     "metadata": {},
     "output_type": "execute_result"
    }
   ],
   "source": [
    "mod = KNNClassifier(X_train=X, y_train=y, scale_method='mean',\n",
    "                     distance='euclidean')\n",
    "mod"
   ]
  },
  {
   "cell_type": "code",
   "execution_count": 11,
   "metadata": {
    "ExecuteTime": {
     "end_time": "2019-01-23T03:34:51.152626Z",
     "start_time": "2019-01-23T03:34:51.143842Z"
    }
   },
   "outputs": [
    {
     "data": {
      "text/plain": [
       "{'class_certainty': [0.6],\n",
       " 'nearest_neighbors': array([[ 83, 226, 275, 200,  60]]),\n",
       " 'neighbor_classes': array([[1, 0, 0, 1, 1]]),\n",
       " 'neighbor_distances': array([[1.24555067, 1.2904598 , 1.49994867, 1.65254366, 1.66789103]]),\n",
       " 'predicted_class': [1]}"
      ]
     },
     "execution_count": 11,
     "metadata": {},
     "output_type": "execute_result"
    }
   ],
   "source": [
    "np.random.seed(1)\n",
    "X_new = np.mean(X, axis=0) * np.random.rand(1, 1) * 3\n",
    "pred1 = mod.predict(X_new)\n",
    "pred1"
   ]
  },
  {
   "cell_type": "code",
   "execution_count": 12,
   "metadata": {
    "ExecuteTime": {
     "end_time": "2019-01-23T03:34:51.164752Z",
     "start_time": "2019-01-23T03:34:51.154707Z"
    }
   },
   "outputs": [
    {
     "data": {
      "text/plain": [
       "{'class_certainty': [1.0, 1.0, 0.6, 1.0, 1.0],\n",
       " 'nearest_neighbors': array([[167,   0,  51, 209, 149],\n",
       "        [226, 293, 237, 275, 221],\n",
       "        [298, 118, 275, 277,  89],\n",
       "        [195, 142, 171,  96, 193],\n",
       "        [206,  51, 191, 122, 162]]),\n",
       " 'neighbor_classes': array([[1, 1, 1, 1, 1],\n",
       "        [0, 0, 0, 0, 0],\n",
       "        [0, 1, 0, 0, 1],\n",
       "        [1, 1, 1, 1, 1],\n",
       "        [1, 1, 1, 1, 1]]),\n",
       " 'neighbor_distances': array([[4.19763127, 4.34629258, 4.5234966 , 4.54208665, 4.57139749],\n",
       "        [2.48358947, 2.55509978, 2.63127072, 2.63977651, 2.86708796],\n",
       "        [4.62450306, 4.80780351, 4.91718746, 4.98573317, 5.00267267],\n",
       "        [5.38978908, 5.70179844, 5.83418211, 5.85219075, 5.91739819],\n",
       "        [6.14890789, 6.32010408, 6.34158484, 6.54352765, 6.61925189]]),\n",
       " 'predicted_class': [1, 0, 0, 1, 1]}"
      ]
     },
     "execution_count": 12,
     "metadata": {},
     "output_type": "execute_result"
    }
   ],
   "source": [
    "np.random.seed(1)\n",
    "X_multi = np.median(X, axis=0) * np.random.rand(5, 6) * 3\n",
    "pred_multi = mod.predict(X_multi)\n",
    "pred_multi"
   ]
  },
  {
   "cell_type": "markdown",
   "metadata": {},
   "source": [
    "### Fit a model using min-max normalization and cosine distance"
   ]
  },
  {
   "cell_type": "code",
   "execution_count": 13,
   "metadata": {
    "ExecuteTime": {
     "end_time": "2019-01-23T03:34:51.172634Z",
     "start_time": "2019-01-23T03:34:51.167098Z"
    }
   },
   "outputs": [
    {
     "data": {
      "text/plain": [
       "KNNClassifier(k=3, distance=cosine, scale_method=minmax)"
      ]
     },
     "execution_count": 13,
     "metadata": {},
     "output_type": "execute_result"
    }
   ],
   "source": [
    "mod2 = KNNClassifier(X, y, 3, 'minmax', 'cosine')\n",
    "mod2"
   ]
  },
  {
   "cell_type": "code",
   "execution_count": 14,
   "metadata": {
    "ExecuteTime": {
     "end_time": "2019-01-23T03:34:51.184983Z",
     "start_time": "2019-01-23T03:34:51.175162Z"
    }
   },
   "outputs": [
    {
     "data": {
      "text/plain": [
       "{'class_certainty': [0.6666666666666666],\n",
       " 'nearest_neighbors': array([[ 83, 275, 237]]),\n",
       " 'neighbor_classes': array([[1, 0, 0]]),\n",
       " 'neighbor_distances': array([[0.00283673, 0.00315944, 0.00327326]]),\n",
       " 'predicted_class': [0]}"
      ]
     },
     "execution_count": 14,
     "metadata": {},
     "output_type": "execute_result"
    }
   ],
   "source": [
    "pred2 = mod2.predict(X_new)\n",
    "pred2"
   ]
  },
  {
   "cell_type": "code",
   "execution_count": 15,
   "metadata": {
    "ExecuteTime": {
     "end_time": "2019-01-23T03:34:51.196798Z",
     "start_time": "2019-01-23T03:34:51.187008Z"
    }
   },
   "outputs": [
    {
     "data": {
      "text/plain": [
       "{'class_certainty': [1.0, 1.0, 1.0, 1.0, 1.0],\n",
       " 'nearest_neighbors': array([[162, 206,  51],\n",
       "        [272, 308, 295],\n",
       "        [ 40,  49,   1],\n",
       "        [112, 125,   9],\n",
       "        [162, 206, 191]]),\n",
       " 'neighbor_classes': array([[1, 1, 1],\n",
       "        [0, 0, 0],\n",
       "        [1, 1, 1],\n",
       "        [1, 1, 1],\n",
       "        [1, 1, 1]]),\n",
       " 'neighbor_distances': array([[0.16982651, 0.19673849, 0.20557966],\n",
       "        [0.02752439, 0.03190742, 0.03272664],\n",
       "        [0.06378024, 0.08717138, 0.0916856 ],\n",
       "        [0.11870047, 0.11914467, 0.12030607],\n",
       "        [0.17775531, 0.19182757, 0.22049776]]),\n",
       " 'predicted_class': [1, 0, 1, 1, 1]}"
      ]
     },
     "execution_count": 15,
     "metadata": {},
     "output_type": "execute_result"
    }
   ],
   "source": [
    "mod2.predict(X_multi)"
   ]
  },
  {
   "cell_type": "markdown",
   "metadata": {},
   "source": [
    "## Scikit-Learn Implementation"
   ]
  },
  {
   "cell_type": "code",
   "execution_count": 16,
   "metadata": {
    "ExecuteTime": {
     "end_time": "2019-01-23T03:34:52.418615Z",
     "start_time": "2019-01-23T03:34:51.201167Z"
    }
   },
   "outputs": [],
   "source": [
    "import matplotlib.pyplot as plt\n",
    "import seaborn as sns\n",
    "from sklearn.neighbors import KNeighborsClassifier\n",
    "from sklearn.preprocessing import StandardScaler\n",
    "import pandas as pd\n",
    "import warnings\n",
    "\n",
    "warnings.filterwarnings('ignore')"
   ]
  },
  {
   "cell_type": "code",
   "execution_count": 17,
   "metadata": {
    "ExecuteTime": {
     "end_time": "2019-01-23T03:34:52.638454Z",
     "start_time": "2019-01-23T03:34:52.420269Z"
    }
   },
   "outputs": [
    {
     "data": {
      "text/html": [
       "<div>\n",
       "<style scoped>\n",
       "    .dataframe tbody tr th:only-of-type {\n",
       "        vertical-align: middle;\n",
       "    }\n",
       "\n",
       "    .dataframe tbody tr th {\n",
       "        vertical-align: top;\n",
       "    }\n",
       "\n",
       "    .dataframe thead th {\n",
       "        text-align: right;\n",
       "    }\n",
       "</style>\n",
       "<table border=\"1\" class=\"dataframe\">\n",
       "  <thead>\n",
       "    <tr style=\"text-align: right;\">\n",
       "      <th></th>\n",
       "      <th>pelvic_incidence</th>\n",
       "      <th>pelvic_tilt numeric</th>\n",
       "      <th>lumbar_lordosis_angle</th>\n",
       "      <th>sacral_slope</th>\n",
       "      <th>pelvic_radius</th>\n",
       "      <th>degree_spondylolisthesis</th>\n",
       "      <th>class</th>\n",
       "    </tr>\n",
       "  </thead>\n",
       "  <tbody>\n",
       "    <tr>\n",
       "      <th>0</th>\n",
       "      <td>63.027818</td>\n",
       "      <td>22.552586</td>\n",
       "      <td>39.609117</td>\n",
       "      <td>40.475232</td>\n",
       "      <td>98.672917</td>\n",
       "      <td>-0.254400</td>\n",
       "      <td>Abnormal</td>\n",
       "    </tr>\n",
       "    <tr>\n",
       "      <th>1</th>\n",
       "      <td>39.056951</td>\n",
       "      <td>10.060991</td>\n",
       "      <td>25.015378</td>\n",
       "      <td>28.995960</td>\n",
       "      <td>114.405425</td>\n",
       "      <td>4.564259</td>\n",
       "      <td>Abnormal</td>\n",
       "    </tr>\n",
       "    <tr>\n",
       "      <th>2</th>\n",
       "      <td>68.832021</td>\n",
       "      <td>22.218482</td>\n",
       "      <td>50.092194</td>\n",
       "      <td>46.613539</td>\n",
       "      <td>105.985135</td>\n",
       "      <td>-3.530317</td>\n",
       "      <td>Abnormal</td>\n",
       "    </tr>\n",
       "    <tr>\n",
       "      <th>3</th>\n",
       "      <td>69.297008</td>\n",
       "      <td>24.652878</td>\n",
       "      <td>44.311238</td>\n",
       "      <td>44.644130</td>\n",
       "      <td>101.868495</td>\n",
       "      <td>11.211523</td>\n",
       "      <td>Abnormal</td>\n",
       "    </tr>\n",
       "    <tr>\n",
       "      <th>4</th>\n",
       "      <td>49.712859</td>\n",
       "      <td>9.652075</td>\n",
       "      <td>28.317406</td>\n",
       "      <td>40.060784</td>\n",
       "      <td>108.168725</td>\n",
       "      <td>7.918501</td>\n",
       "      <td>Abnormal</td>\n",
       "    </tr>\n",
       "  </tbody>\n",
       "</table>\n",
       "</div>"
      ],
      "text/plain": [
       "   pelvic_incidence  pelvic_tilt numeric  lumbar_lordosis_angle  sacral_slope  \\\n",
       "0         63.027818            22.552586              39.609117     40.475232   \n",
       "1         39.056951            10.060991              25.015378     28.995960   \n",
       "2         68.832021            22.218482              50.092194     46.613539   \n",
       "3         69.297008            24.652878              44.311238     44.644130   \n",
       "4         49.712859             9.652075              28.317406     40.060784   \n",
       "\n",
       "   pelvic_radius  degree_spondylolisthesis     class  \n",
       "0      98.672917                 -0.254400  Abnormal  \n",
       "1     114.405425                  4.564259  Abnormal  \n",
       "2     105.985135                 -3.530317  Abnormal  \n",
       "3     101.868495                 11.211523  Abnormal  \n",
       "4     108.168725                  7.918501  Abnormal  "
      ]
     },
     "execution_count": 17,
     "metadata": {},
     "output_type": "execute_result"
    }
   ],
   "source": [
    "df = pd.read_csv(fname)\n",
    "X = df.iloc[:, :-1]\n",
    "y = (df['class'] == 'Abnormal') * 1\n",
    "df.head()"
   ]
  },
  {
   "cell_type": "code",
   "execution_count": 18,
   "metadata": {
    "ExecuteTime": {
     "end_time": "2019-01-23T03:34:52.646574Z",
     "start_time": "2019-01-23T03:34:52.641265Z"
    }
   },
   "outputs": [],
   "source": [
    "scaler = StandardScaler()\n",
    "sk_knn = KNeighborsClassifier(n_neighbors=5)"
   ]
  },
  {
   "cell_type": "code",
   "execution_count": 19,
   "metadata": {
    "ExecuteTime": {
     "end_time": "2019-01-23T03:34:52.660947Z",
     "start_time": "2019-01-23T03:34:52.649054Z"
    }
   },
   "outputs": [],
   "source": [
    "X_scaled = scaler.fit_transform(X)\n",
    "X_new_scaled = scaler.transform(X_new)\n",
    "sk_knn.fit(X_scaled, y)\n",
    "pred = sk_knn.predict(X_new_scaled)[0]\n",
    "distances, kneighbors = sk_knn.kneighbors(X_new_scaled)"
   ]
  },
  {
   "cell_type": "code",
   "execution_count": 20,
   "metadata": {
    "ExecuteTime": {
     "end_time": "2019-01-23T03:34:52.670409Z",
     "start_time": "2019-01-23T03:34:52.662665Z"
    }
   },
   "outputs": [
    {
     "name": "stdout",
     "output_type": "stream",
     "text": [
      "Predicted class: 1\n",
      "Nearest neighbors: [ 83 226 275 200  60]\n",
      "Neighbor distances: [1.24555067 1.2904598  1.49994867 1.65254366 1.66789103]\n"
     ]
    }
   ],
   "source": [
    "print(f'Predicted class: {pred}')\n",
    "print(f'Nearest neighbors: {kneighbors.flatten()}')\n",
    "print(f'Neighbor distances: {distances.flatten()}')"
   ]
  }
 ],
 "metadata": {
  "kernelspec": {
   "display_name": "Python 3",
   "language": "python",
   "name": "python3"
  },
  "language_info": {
   "codemirror_mode": {
    "name": "ipython",
    "version": 3
   },
   "file_extension": ".py",
   "mimetype": "text/x-python",
   "name": "python",
   "nbconvert_exporter": "python",
   "pygments_lexer": "ipython3",
   "version": "3.6.8"
  }
 },
 "nbformat": 4,
 "nbformat_minor": 2
}
